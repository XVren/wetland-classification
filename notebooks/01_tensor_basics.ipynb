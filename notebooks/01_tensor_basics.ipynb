{
 "cells": [
  {
   "metadata": {
    "jupyter": {
     "is_executing": true
    }
   },
   "cell_type": "code",
   "source": [
    "import tensorflow as tf\n",
    "#创建张量\n",
    "tensor = tf.constant([[1,2],[3,4]])\n",
    "print('张量:\\n',tensor)\n",
    "\n",
    "#形状变换\n",
    "reshaped = tf.reshape(tensor, [4])\n",
    "print('形状变换后:\\n',reshaped)\n",
    "\n",
    "#数学运算\n",
    "squared = tf.square(tensor)\n",
    "print('平方运输:\\n',squared)\n",
    "\n",
    "#广播机制\n",
    "added = tensor + 1\n",
    "print('广播加法:\\n',added)"
   ],
   "id": "f924189be709caf2",
   "outputs": [],
   "execution_count": null
  },
  {
   "metadata": {},
   "cell_type": "code",
   "outputs": [],
   "execution_count": null,
   "source": "",
   "id": "cc18579dd33de382"
  }
 ],
 "metadata": {},
 "nbformat": 5,
 "nbformat_minor": 9
}
