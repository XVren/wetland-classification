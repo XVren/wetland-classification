{
 "cells": [
  {
   "metadata": {
    "jupyter": {
     "is_executing": true
    }
   },
   "cell_type": "code",
   "source": [
    "import tensorflow as tf\n",
    "from tensorflow.keras import layers\n",
    "\n",
    "#构建模型\n",
    "model = tf.keras.models.Sequential([\n",
    "    #输入层\n",
    "    layers.Dense(64, activation = 'relu',input_shape = (10,)),\n",
    "    #隐藏层\n",
    "    layers.Dense(32, activation = 'relu'),\n",
    "    #输出层\n",
    "    layers.Dense(1)\n",
    "])\n",
    "\n",
    "#打印模型结构\n",
    "model.summary()\n",
    "\n",
    "#编译模型\n",
    "model.compile(optimizer = 'adam',loss = 'mse')\n",
    "\n",
    "#模拟数据\n",
    "import numpy as np\n",
    "X = np.random.random((100,10))\n",
    "Y = np.random.random((100,1))\n",
    "\n",
    "#训练模型\n",
    "history = model.fit(X,Y,epochs = 100,batch_size = 8)"
   ],
   "id": "6e6e91e023d1a5a4",
   "outputs": [],
   "execution_count": null
  },
  {
   "metadata": {},
   "cell_type": "code",
   "outputs": [],
   "execution_count": null,
   "source": "",
   "id": "64328ed1f8624ec5"
  }
 ],
 "metadata": {
  "kernelspec": {
   "name": "python3",
   "language": "python",
   "display_name": "Python 3 (ipykernel)"
  }
 },
 "nbformat": 5,
 "nbformat_minor": 9
}
